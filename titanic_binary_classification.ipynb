{
 "cells": [
  {
   "cell_type": "code",
   "id": "initial_id",
   "metadata": {
    "collapsed": true
   },
   "source": "import pandas as pd",
   "outputs": [],
   "execution_count": null
  },
  {
   "metadata": {},
   "cell_type": "code",
   "source": [
    "df = pd.read_csv(\"data/train.csv\")\n",
    "print(df.head())"
   ],
   "id": "9c86e74c3f64d5fc",
   "outputs": [],
   "execution_count": null
  },
  {
   "metadata": {},
   "cell_type": "code",
   "source": [
    "# dropping useless data\n",
    "\n",
    "df = df.drop([\"PassengerId\", \"Name\", \"Ticket\", \"Cabin\"], axis=1)\n",
    "print(df.isnull().sum())\n",
    "\n"
   ],
   "id": "ef48f4d8e8fb5080",
   "outputs": [],
   "execution_count": null
  },
  {
   "metadata": {},
   "cell_type": "code",
   "source": [
    "# Handling missing data\n",
    "# Fill missing Age values with median\n",
    "df[\"Age\"] = df[\"Age\"].fillna(df[\"Age\"].median())\n",
    "\n",
    "# Fill missing Embarked values with mode (most frequent)\n",
    "df[\"Embarked\"] = df[\"Embarked\"].fillna(df[\"Embarked\"].mode()[0])\n",
    "\n",
    "# Double-check no missing values left\n",
    "print(df.isnull().sum())\n"
   ],
   "id": "b6753936d8effb2f",
   "outputs": [],
   "execution_count": null
  },
  {
   "metadata": {},
   "cell_type": "code",
   "source": [
    "# convert categorical features to numbers\n",
    "# sex 'male' or 'famalse => convert to 0, or 1\n",
    "# Embarked 'C', 'Q', 'S' => One-hot encoding\n",
    "from sklearn.preprocessing import LabelEncoder\n",
    "\n",
    "# Encode 'Sex' with label encoding (binary)\n",
    "sex_encoder = LabelEncoder()\n",
    "df[\"Sex\"] = sex_encoder.fit_transform(df[\"Sex\"])  # male = 1, female = 0\n",
    "\n",
    "# One-hot encode 'Embarked'\n",
    "df = pd.get_dummies(df, columns=[\"Embarked\"], drop_first=True)\n",
    "\n",
    "# Preview the result\n",
    "print(df.head())"
   ],
   "id": "664c4b146ce93ecb",
   "outputs": [],
   "execution_count": null
  },
  {
   "metadata": {},
   "cell_type": "code",
   "source": [
    "from sklearn.model_selection import train_test_split\n",
    "\n",
    "# Features and label\n",
    "X = df.drop(\"Survived\", axis=1)  # All columns except target\n",
    "y = df[\"Survived\"]               # Target column\n",
    "\n",
    "# Split: 80% training, 20% testing\n",
    "X_train, X_test, y_train, y_test = train_test_split(\n",
    "    X, y, test_size=0.2, random_state=42\n",
    ")\n",
    "\n",
    "# Check shapes\n",
    "print(\"Training set size:\", X_train.shape)\n",
    "print(\"Test set size:\", X_test.shape)"
   ],
   "id": "a7e99d9df633d016",
   "outputs": [],
   "execution_count": null
  },
  {
   "metadata": {},
   "cell_type": "code",
   "source": [
    "%load_ext autoreload\n",
    "%autoreload 2\n",
    "from src.utils import best_split_for_feature\n",
    "\n",
    "# Use numpy arrays\n",
    "X_array = X[\"Fare\"].values\n",
    "y_array = y.values\n",
    "\n",
    "threshold, gain = best_split_for_feature(X_array, y_array)\n",
    "print(f\"Best threshold for Fare: {threshold}\")\n",
    "print(f\"Information Gain at that threshold: {gain}\")\n",
    "\n"
   ],
   "id": "3c0d2254ddf91d9b",
   "outputs": [],
   "execution_count": null
  },
  {
   "metadata": {
    "ExecuteTime": {
     "end_time": "2025-06-10T03:58:21.900125Z",
     "start_time": "2025-06-10T03:58:21.861133Z"
    }
   },
   "cell_type": "code",
   "source": [
    "from src.utils import best_split_xy\n",
    "\n",
    "feature, threshold, gain = best_split_xy(X_train, y_train)\n",
    "\n",
    "print(f\"Best feature to split on: {feature}\")\n",
    "print(f\"Best threshold: {threshold}\")\n",
    "print(f\"Information Gain: {gain}\")"
   ],
   "id": "88d7e4867470eaca",
   "outputs": [
    {
     "name": "stdout",
     "output_type": "stream",
     "text": [
      "Best feature to split on: Sex\n",
      "Best threshold: 0\n",
      "Information Gain: 0.21537571560753233\n"
     ]
    }
   ],
   "execution_count": 27
  },
  {
   "metadata": {
    "ExecuteTime": {
     "end_time": "2025-06-10T04:13:46.941788Z",
     "start_time": "2025-06-10T04:13:46.877544Z"
    }
   },
   "cell_type": "code",
   "source": [
    "from decision_tree import build_tree\n",
    "\n",
    "tree = build_tree(X_train, y_train, max_depth=3)\n",
    "import pprint\n",
    "pprint.pprint(tree)\n"
   ],
   "id": "ffa4ecc1f3879154",
   "outputs": [
    {
     "ename": "NameError",
     "evalue": "name 'build_tree' is not defined",
     "output_type": "error",
     "traceback": [
      "\u001B[31m---------------------------------------------------------------------------\u001B[39m",
      "\u001B[31mNameError\u001B[39m                                 Traceback (most recent call last)",
      "\u001B[36mCell\u001B[39m\u001B[36m \u001B[39m\u001B[32mIn[35]\u001B[39m\u001B[32m, line 3\u001B[39m\n\u001B[32m      1\u001B[39m \u001B[38;5;28;01mfrom\u001B[39;00m\u001B[38;5;250m \u001B[39m\u001B[34;01mdecision_tree\u001B[39;00m\u001B[38;5;250m \u001B[39m\u001B[38;5;28;01mimport\u001B[39;00m build_tree\n\u001B[32m----> \u001B[39m\u001B[32m3\u001B[39m tree = \u001B[43mbuild_tree\u001B[49m\u001B[43m(\u001B[49m\u001B[43mX_train\u001B[49m\u001B[43m,\u001B[49m\u001B[43m \u001B[49m\u001B[43my_train\u001B[49m\u001B[43m,\u001B[49m\u001B[43m \u001B[49m\u001B[43mmax_depth\u001B[49m\u001B[43m=\u001B[49m\u001B[32;43m3\u001B[39;49m\u001B[43m)\u001B[49m\n\u001B[32m      4\u001B[39m \u001B[38;5;28;01mimport\u001B[39;00m\u001B[38;5;250m \u001B[39m\u001B[34;01mpprint\u001B[39;00m\n\u001B[32m      5\u001B[39m pprint.pprint(tree)\n",
      "\u001B[36mFile \u001B[39m\u001B[32m<string>:15\u001B[39m, in \u001B[36mbuild_tree\u001B[39m\u001B[34m(X, y, depth, max_depth)\u001B[39m\n",
      "\u001B[31mNameError\u001B[39m: name 'build_tree' is not defined"
     ]
    }
   ],
   "execution_count": 35
  }
 ],
 "metadata": {
  "kernelspec": {
   "display_name": "Python 3",
   "language": "python",
   "name": "python3"
  },
  "language_info": {
   "codemirror_mode": {
    "name": "ipython",
    "version": 2
   },
   "file_extension": ".py",
   "mimetype": "text/x-python",
   "name": "python",
   "nbconvert_exporter": "python",
   "pygments_lexer": "ipython2",
   "version": "2.7.6"
  }
 },
 "nbformat": 4,
 "nbformat_minor": 5
}
